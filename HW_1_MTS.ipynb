{
  "nbformat": 4,
  "nbformat_minor": 0,
  "metadata": {
    "colab": {
      "provenance": [],
      "authorship_tag": "ABX9TyNJY54M+Xz7wSdMpgFjX+Qc",
      "include_colab_link": true
    },
    "kernelspec": {
      "name": "python3",
      "display_name": "Python 3"
    },
    "language_info": {
      "name": "python"
    }
  },
  "cells": [
    {
      "cell_type": "markdown",
      "metadata": {
        "id": "view-in-github",
        "colab_type": "text"
      },
      "source": [
        "<a href=\"https://colab.research.google.com/github/IGVP/IGVP_MTS/blob/lesson_1_hw/HW_1_MTS.ipynb\" target=\"_parent\"><img src=\"https://colab.research.google.com/assets/colab-badge.svg\" alt=\"Open In Colab\"/></a>"
      ]
    },
    {
      "cell_type": "code",
      "execution_count": 39,
      "metadata": {
        "colab": {
          "base_uri": "https://localhost:8080/"
        },
        "id": "L7VlvDP0S0PZ",
        "outputId": "e641140a-9313-4780-eaef-fb24e715b59e"
      },
      "outputs": [
        {
          "output_type": "stream",
          "name": "stdout",
          "text": [
            "Здравствуй, дивный новый мир!\n"
          ]
        }
      ],
      "source": [
        "print('Здравствуй, дивный новый мир!')"
      ]
    },
    {
      "cell_type": "code",
      "source": [
        "print(f'прибыль за пять лет {round((200000*(1+8/(100*12))**(12*5)-200000),2)}')"
      ],
      "metadata": {
        "colab": {
          "base_uri": "https://localhost:8080/"
        },
        "id": "TRcmXmRES-Aa",
        "outputId": "11e913b1-6e9e-4798-cc67-9a91feffacae"
      },
      "execution_count": 22,
      "outputs": [
        {
          "output_type": "stream",
          "name": "stdout",
          "text": [
            "прибыль за пять лет 97969.14\n"
          ]
        }
      ]
    },
    {
      "cell_type": "code",
      "source": [
        "# задем функцию расчёт процентной ставки\n",
        "def proffit(percent, frequency, deposit, term):\n",
        "  return f'прибыль за {term} лет = {deposit*(1+percent/(100*frequency))**(frequency*term)-deposit:.2f}'\n",
        "# объявляем переменные\n",
        "percent = float(input('Введите ставку: '))\n",
        "frequency = float(input('Введите частоту капптилизации в год: '))\n",
        "deposit = float(input('Введите сумму депозита: '))\n",
        "term = float(input('Введите срок вклада: '))\n",
        "# вызываем функицю\n",
        "res = proffit(percent, frequency, deposit, term)\n",
        "# выводим на печать\n",
        "print(res)"
      ],
      "metadata": {
        "colab": {
          "base_uri": "https://localhost:8080/"
        },
        "id": "xmefaQR2W8_u",
        "outputId": "b392c4dc-680a-43bf-dc04-2b10b2f5e8f6"
      },
      "execution_count": 38,
      "outputs": [
        {
          "output_type": "stream",
          "name": "stdout",
          "text": [
            "Введите ставку: 8\n",
            "Введите частоту капптилизации в год: 1\n",
            "Введите сумму депозита: 100000\n",
            "Введите срок вклада: 1\n",
            "прибыль за 1.0 лет = 8000.00\n"
          ]
        }
      ]
    }
  ]
}